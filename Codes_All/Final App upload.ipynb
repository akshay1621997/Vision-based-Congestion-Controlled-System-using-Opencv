{
 "cells": [
  {
   "cell_type": "code",
   "execution_count": 7,
   "metadata": {},
   "outputs": [],
   "source": [
    "import json\n",
    "from googleplaces import GooglePlaces, types, lang\n",
    "import re\n",
    "import requests\n",
    "import os\n",
    "import zipfile \n",
    "\n",
    "from geopy.geocoders import Nominatim\n",
    "geolocator = Nominatim(user_agent=\"specify_your_app_name_here\")\n",
    "location = geolocator.reverse(\"12.751016, 80.198109\")\n",
    "a=location.raw['address']\n",
    "town = a.get('suburb', None)\n",
    "#os.mkdir(str(town))\n",
    "#os.chdir(str(town))\n",
    "zip = zipfile.ZipFile('%s.zip'%(str(town)),'w') \n",
    "\n",
    "\n",
    "zip.write('snip1.JPG')\n",
    "\n",
    "from gtts import gTTS\n",
    "import os\n",
    "tts = gTTS(text='The number of cars present is 5', lang='en')\n",
    "tts.save(\"cars.mp3\")\n",
    "zip.write('cars.mp3')\n",
    "\n",
    "f=open(\"Car Information.txt\",\"w+\")\n",
    "f.write(\"The number of cars present is:6\")\n",
    "f.close()\n",
    "zip.write('Car Information.txt')\n",
    "zip.close()"
   ]
  },
  {
   "cell_type": "code",
   "execution_count": 2,
   "metadata": {},
   "outputs": [
    {
     "name": "stderr",
     "output_type": "stream",
     "text": [
      "C:\\Users\\dell\\Anaconda2\\lib\\site-packages\\ipykernel_launcher.py:1: UserWarning: Duplicate name: 'snip1.JPG'\n",
      "  \"\"\"Entry point for launching an IPython kernel.\n",
      "C:\\Users\\dell\\Anaconda2\\lib\\site-packages\\ipykernel_launcher.py:7: UserWarning: Duplicate name: 'cars.mp3'\n",
      "  import sys\n",
      "C:\\Users\\dell\\Anaconda2\\lib\\site-packages\\ipykernel_launcher.py:12: UserWarning: Duplicate name: 'Car Information.txt'\n",
      "  if sys.path[0] == '':\n"
     ]
    }
   ],
   "source": [
    "zip.write('snip1.JPG')\n",
    "\n",
    "from gtts import gTTS\n",
    "import os\n",
    "tts = gTTS(text='The number of cars present is 5', lang='en')\n",
    "tts.save(\"cars.mp3\")\n",
    "zip.write('cars.mp3')\n",
    "\n",
    "f=open(\"Car Information.txt\",\"w+\")\n",
    "f.write(\"The number of cars present is:6\")\n",
    "f.close()\n",
    "zip.write('Car Information.txt')"
   ]
  },
  {
   "cell_type": "code",
   "execution_count": 8,
   "metadata": {},
   "outputs": [],
   "source": [
    "import argparse\n",
    "import warnings\n",
    "import datetime\n",
    "import dropbox\n",
    "import json\n",
    "import time\n",
    "import cv2"
   ]
  },
  {
   "cell_type": "code",
   "execution_count": 9,
   "metadata": {},
   "outputs": [
    {
     "name": "stdout",
     "output_type": "stream",
     "text": [
      "[SUCCESS] dropbox account linked\n"
     ]
    }
   ],
   "source": [
    "conf = json.load(open('config.json'))\n",
    "client = None\n",
    "client = dropbox.Dropbox(conf[\"dropbox_access_token\"])\n",
    "print(\"[SUCCESS] dropbox account linked\")"
   ]
  },
  {
   "cell_type": "code",
   "execution_count": 12,
   "metadata": {},
   "outputs": [
    {
     "data": {
      "text/plain": [
       "FileMetadata(name=u'Siruseri.zip', id=u'id:TBZDu9rzwHUAAAAAAAABCw', client_modified=datetime.datetime(2019, 2, 22, 5, 53, 9), server_modified=datetime.datetime(2019, 2, 22, 5, 53, 9), rev=u'0118000000012525d280', size=218158, path_lower=u'/siruseri.zip', path_display=u'/Siruseri.zip', parent_shared_folder_id=None, media_info=None, symlink_info=None, sharing_info=None, property_groups=None, has_explicit_shared_members=None, content_hash=u'b21d328831deefff6090534783d3ebd128210f275e1e1083c700897cf5b5df6e')"
      ]
     },
     "execution_count": 12,
     "metadata": {},
     "output_type": "execute_result"
    }
   ],
   "source": [
    "path = \"/%s.zip\"%(str(town)).format( base_path=conf[\"dropbox_base_path\"])\n",
    "client.files_upload(open('%s.zip'%(str(town)), \"rb\").read(), path)"
   ]
  },
  {
   "cell_type": "code",
   "execution_count": 5,
   "metadata": {},
   "outputs": [],
   "source": []
  },
  {
   "cell_type": "code",
   "execution_count": null,
   "metadata": {},
   "outputs": [],
   "source": []
  },
  {
   "cell_type": "code",
   "execution_count": null,
   "metadata": {},
   "outputs": [],
   "source": []
  },
  {
   "cell_type": "code",
   "execution_count": null,
   "metadata": {},
   "outputs": [],
   "source": []
  },
  {
   "cell_type": "code",
   "execution_count": null,
   "metadata": {},
   "outputs": [],
   "source": []
  },
  {
   "cell_type": "code",
   "execution_count": null,
   "metadata": {},
   "outputs": [],
   "source": []
  },
  {
   "cell_type": "code",
   "execution_count": null,
   "metadata": {},
   "outputs": [],
   "source": []
  },
  {
   "cell_type": "code",
   "execution_count": null,
   "metadata": {},
   "outputs": [],
   "source": []
  },
  {
   "cell_type": "code",
   "execution_count": null,
   "metadata": {},
   "outputs": [],
   "source": []
  },
  {
   "cell_type": "code",
   "execution_count": null,
   "metadata": {},
   "outputs": [],
   "source": []
  },
  {
   "cell_type": "code",
   "execution_count": null,
   "metadata": {},
   "outputs": [],
   "source": []
  },
  {
   "cell_type": "code",
   "execution_count": null,
   "metadata": {},
   "outputs": [],
   "source": []
  },
  {
   "cell_type": "code",
   "execution_count": null,
   "metadata": {},
   "outputs": [],
   "source": []
  },
  {
   "cell_type": "code",
   "execution_count": null,
   "metadata": {},
   "outputs": [],
   "source": []
  },
  {
   "cell_type": "code",
   "execution_count": null,
   "metadata": {},
   "outputs": [],
   "source": []
  },
  {
   "cell_type": "code",
   "execution_count": null,
   "metadata": {},
   "outputs": [],
   "source": []
  },
  {
   "cell_type": "code",
   "execution_count": null,
   "metadata": {},
   "outputs": [],
   "source": []
  },
  {
   "cell_type": "code",
   "execution_count": null,
   "metadata": {},
   "outputs": [],
   "source": []
  },
  {
   "cell_type": "code",
   "execution_count": null,
   "metadata": {},
   "outputs": [],
   "source": []
  },
  {
   "cell_type": "code",
   "execution_count": null,
   "metadata": {},
   "outputs": [],
   "source": []
  }
 ],
 "metadata": {
  "kernelspec": {
   "display_name": "Python 2",
   "language": "python",
   "name": "python2"
  },
  "language_info": {
   "codemirror_mode": {
    "name": "ipython",
    "version": 2
   },
   "file_extension": ".py",
   "mimetype": "text/x-python",
   "name": "python",
   "nbconvert_exporter": "python",
   "pygments_lexer": "ipython2",
   "version": "2.7.14"
  }
 },
 "nbformat": 4,
 "nbformat_minor": 2
}
