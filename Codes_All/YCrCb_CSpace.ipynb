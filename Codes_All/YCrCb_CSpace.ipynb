{
 "cells": [
  {
   "cell_type": "code",
   "execution_count": 1,
   "metadata": {},
   "outputs": [],
   "source": [
    "import glob\n",
    "import cv2\n",
    "import numpy as np\n",
    "import matplotlib.pyplot as plt\n",
    "import random as rn\n",
    "from skimage.feature import hog"
   ]
  },
  {
   "cell_type": "code",
   "execution_count": 2,
   "metadata": {},
   "outputs": [
    {
     "name": "stdout",
     "output_type": "stream",
     "text": [
      "Reading of Vehicle Images Done\n",
      "No. of Vehicle Images loaded=8536\n",
      "Reading of Non-Vehicle Images Done\n",
      "No. of Non-Vehicle Images loaded=8968\n"
     ]
    }
   ],
   "source": [
    "veh_img_arr=glob.glob('./ReTrucks/*.jpg')\n",
    "\n",
    "veh_img_orig=[]\n",
    "for imgPath in veh_img_arr:\n",
    "    img=cv2.imread(imgPath)\n",
    "    rgbImg=cv2.cvtColor(img, cv2.COLOR_BGR2RGB)\n",
    "    veh_img_orig.append(rgbImg)\n",
    "\n",
    "print('Reading of Vehicle Images Done')\n",
    "print('No. of Vehicle Images loaded='+str(len(veh_img_arr)))\n",
    "\n",
    "non_veh_orig=[]\n",
    "non_veh_arr=glob.glob('./non-vehicles/*/*.png')\n",
    "for imgPath in non_veh_arr:\n",
    "    img=cv2.imread(imgPath)\n",
    "    rgbImg=cv2.cvtColor(img, cv2.COLOR_BGR2RGB)\n",
    "    non_veh_orig.append(rgbImg)\n",
    "\n",
    "\n",
    "\n",
    "print('Reading of Non-Vehicle Images Done')\n",
    "print('No. of Non-Vehicle Images loaded='+str(len(non_veh_arr)))"
   ]
  },
  {
   "cell_type": "code",
   "execution_count": 3,
   "metadata": {},
   "outputs": [],
   "source": [
    "def GetFeaturesFromHog(image,orient,cellsPerBlock,pixelsPerCell, visualise= False, feature_vector_flag=True):\n",
    "    if(visualise==True):\n",
    "        hog_features, hog_image = hog(image, orientations=orient,\n",
    "                          pixels_per_cell=(pixelsPerCell, pixelsPerCell), \n",
    "                          cells_per_block=(cellsPerBlock, cellsPerBlock), \n",
    "                          visualise=True, feature_vector=feature_vector_flag)\n",
    "        return hog_features, hog_image\n",
    "    else:\n",
    "        hog_features = hog(image, orientations=orient,\n",
    "                          pixels_per_cell=(pixelsPerCell, pixelsPerCell), \n",
    "                          cells_per_block=(cellsPerBlock, cellsPerBlock), \n",
    "                          visualise=False, feature_vector=feature_vector_flag)\n",
    "        return hog_features"
   ]
  },
  {
   "cell_type": "code",
   "execution_count": 4,
   "metadata": {},
   "outputs": [],
   "source": [
    "def ExtractFeatures(images,orientation,cellsPerBlock,pixelsPerCell,convertColorspace=False):\n",
    "    featureList=[]\n",
    "    imageList=[]\n",
    "    for image in images:\n",
    "        if(convertColorspace==True):\n",
    "            image=cv2.cvtColor(image, cv2.COLOR_RGB2YCR_CB)\n",
    "        local_features0=GetFeaturesFromHog(image[:,:,0],orientation,cellsPerBlock,pixelsPerCell,False,True)\n",
    "        local_features1=GetFeaturesFromHog(image[:,:,1],orientation,cellsPerBlock,pixelsPerCell,False,True)\n",
    "        local_features2=GetFeaturesFromHog(image[:,:,2],orientation,cellsPerBlock,pixelsPerCell,False,True)\n",
    "        x=np.hstack((local_features0,local_features1,local_features2))\n",
    "        featureList.append(x)\n",
    "    return featureList"
   ]
  },
  {
   "cell_type": "code",
   "execution_count": 5,
   "metadata": {},
   "outputs": [
    {
     "name": "stderr",
     "output_type": "stream",
     "text": [
      "C:\\Users\\dell\\Anaconda2\\lib\\site-packages\\skimage\\feature\\_hog.py:150: skimage_deprecation: Default value of `block_norm`==`L1` is deprecated and will be changed to `L2-Hys` in v0.15. To supress this message specify explicitly the normalization method.\n",
      "  skimage_deprecation)\n",
      "C:\\Users\\dell\\Anaconda2\\lib\\site-packages\\skimage\\feature\\_hog.py:248: skimage_deprecation: Argument `visualise` is deprecated and will be changed to `visualize` in v0.16\n",
      "  'be changed to `visualize` in v0.16', skimage_deprecation)\n"
     ]
    },
    {
     "name": "stdout",
     "output_type": "stream",
     "text": [
      "Wall time: 48.3 s\n"
     ]
    }
   ],
   "source": [
    "%%time\n",
    "\n",
    "orientations=9\n",
    "cellsPerBlock=2\n",
    "pixelsPerCell=16\n",
    "convertColorspace=True\n",
    "vehicleFeatures=ExtractFeatures(veh_img_orig,orientations,cellsPerBlock,pixelsPerCell,convertColorspace)\n",
    "nonVehicleFeatures=ExtractFeatures(non_veh_orig,orientations,cellsPerBlock,pixelsPerCell,convertColorspace)"
   ]
  },
  {
   "cell_type": "code",
   "execution_count": 6,
   "metadata": {},
   "outputs": [
    {
     "name": "stdout",
     "output_type": "stream",
     "text": [
      "('Shape of features list is ', '(17504L, 972L)')\n",
      "('Shape of label list is ', '(17504L,)')\n"
     ]
    }
   ],
   "source": [
    "featuresList=np.vstack([vehicleFeatures,nonVehicleFeatures])\n",
    "print('Shape of features list is ', str((featuresList.shape)))\n",
    "labelList= np.concatenate([np.ones(len(vehicleFeatures)), np.zeros(len(nonVehicleFeatures))])\n",
    "print('Shape of label list is ', str((labelList.shape)))"
   ]
  },
  {
   "cell_type": "code",
   "execution_count": 7,
   "metadata": {},
   "outputs": [],
   "source": [
    "from sklearn.model_selection import train_test_split\n",
    "\n",
    "X_train, X_test, Y_train, Y_test = train_test_split(featuresList, labelList, test_size=0.2, shuffle=True)"
   ]
  },
  {
   "cell_type": "code",
   "execution_count": 8,
   "metadata": {},
   "outputs": [],
   "source": [
    "from sklearn.preprocessing import StandardScaler\n",
    "\n",
    "scaler=StandardScaler()\n",
    "scaler.fit(X_train)\n",
    "X_train_scaled= scaler.transform(X_train)\n",
    "X_test_scaled= scaler.transform(X_test)"
   ]
  },
  {
   "cell_type": "code",
   "execution_count": 9,
   "metadata": {},
   "outputs": [
    {
     "name": "stdout",
     "output_type": "stream",
     "text": [
      "('Accuracy of Adaboost is ', 0.988860325621251)\n",
      "Wall time: 4min 49s\n"
     ]
    }
   ],
   "source": [
    "%%time\n",
    "from sklearn.tree import DecisionTreeClassifier\n",
    "from sklearn.ensemble import AdaBoostClassifier\n",
    "from sklearn.ensemble import RandomForestClassifier\n",
    "from sklearn.svm import SVC\n",
    "from sklearn import metrics\n",
    "svc=SVC(probability=True, kernel='linear')\n",
    "classifier2=AdaBoostClassifier(base_estimator=RandomForestClassifier(), n_estimators = 50, learning_rate = 1)\n",
    "classifier2.fit(X_train, Y_train)\n",
    "print(\"Accuracy of Adaboost is \", classifier2.score(X_test,Y_test))"
   ]
  },
  {
   "cell_type": "code",
   "execution_count": 10,
   "metadata": {},
   "outputs": [
    {
     "name": "stdout",
     "output_type": "stream",
     "text": [
      "('Accuracy of SVC is ', 0.9728648957440731)\n",
      "Wall time: 1.31 s\n"
     ]
    }
   ],
   "source": [
    "%%time\n",
    "\n",
    "from sklearn.svm import LinearSVC\n",
    "classifier1=LinearSVC()\n",
    "classifier1.fit(X_train,Y_train)\n",
    "print(\"Accuracy of SVC is \", classifier1.score(X_test,Y_test))"
   ]
  },
  {
   "cell_type": "code",
   "execution_count": 11,
   "metadata": {},
   "outputs": [
    {
     "name": "stdout",
     "output_type": "stream",
     "text": [
      "('Accuracy of XGBoost is ', 0.9848614681519566)\n",
      "Wall time: 1min 48s\n"
     ]
    },
    {
     "name": "stderr",
     "output_type": "stream",
     "text": [
      "C:\\Users\\dell\\Anaconda2\\lib\\site-packages\\sklearn\\preprocessing\\label.py:151: DeprecationWarning: The truth value of an empty array is ambiguous. Returning False, but in future this will result in an error. Use `array.size > 0` to check that an array is not empty.\n",
      "  if diff:\n"
     ]
    }
   ],
   "source": [
    "%%time\n",
    "import xgboost as xgb\n",
    "classifier3=xgb.XGBClassifier()\n",
    "classifier3.fit(X_train, Y_train)\n",
    "print(\"Accuracy of XGBoost is \", classifier3.score(X_test,Y_test))"
   ]
  },
  {
   "cell_type": "code",
   "execution_count": null,
   "metadata": {},
   "outputs": [],
   "source": []
  },
  {
   "cell_type": "code",
   "execution_count": null,
   "metadata": {},
   "outputs": [],
   "source": []
  },
  {
   "cell_type": "code",
   "execution_count": null,
   "metadata": {},
   "outputs": [],
   "source": []
  },
  {
   "cell_type": "code",
   "execution_count": null,
   "metadata": {},
   "outputs": [],
   "source": []
  },
  {
   "cell_type": "code",
   "execution_count": null,
   "metadata": {},
   "outputs": [],
   "source": []
  },
  {
   "cell_type": "code",
   "execution_count": null,
   "metadata": {},
   "outputs": [],
   "source": []
  }
 ],
 "metadata": {
  "kernelspec": {
   "display_name": "Python 2",
   "language": "python",
   "name": "python2"
  },
  "language_info": {
   "codemirror_mode": {
    "name": "ipython",
    "version": 2
   },
   "file_extension": ".py",
   "mimetype": "text/x-python",
   "name": "python",
   "nbconvert_exporter": "python",
   "pygments_lexer": "ipython2",
   "version": "2.7.14"
  }
 },
 "nbformat": 4,
 "nbformat_minor": 2
}
